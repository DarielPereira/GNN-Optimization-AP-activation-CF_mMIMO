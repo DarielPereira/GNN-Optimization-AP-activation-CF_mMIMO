{
 "cells": [
  {
   "cell_type": "code",
   "id": "initial_id",
   "metadata": {
    "collapsed": true,
    "ExecuteTime": {
     "end_time": "2024-11-08T11:57:36.173897Z",
     "start_time": "2024-11-08T11:57:32.396969Z"
    }
   },
   "source": [
    "import matplotlib.pyplot as plt\n",
    "import numpy as np\n",
    "from functionsUtils import load_results\n",
    "#\n",
    "plt.rc('text', usetex=True)\n",
    "plt.rc('font', family='Times New Roman')"
   ],
   "outputs": [],
   "execution_count": 2
  },
  {
   "metadata": {},
   "cell_type": "code",
   "outputs": [],
   "execution_count": null,
   "source": [
    "results = load_results('SE_CDF_Comb_MR_NbrSetups_10.pkl')\n",
    "\n",
    "Optimal_SE = results['Optimal_SE'][:]\n",
    "DCC_SE = results['DCC_SE'][:]\n",
    "ALL_SE = results['ALL_SE'][:]\n",
    "\n",
    "Optimal_nbrServingAPs = results['Optimal_nbrServingAPs'][:]\n",
    "DCC_nbrServingAPs = results['DCC_nbrServingAPs'][:]\n",
    "ALL_nbrServingAPs = results['ALL_nbrServingAPs'][:]\n",
    "\n",
    "fig, ax = plt.subplots()\n",
    "plt.grid(visible = True, linestyle='--')\n",
    "\n",
    "plt.ecdf(Optimal_SE, label=\"Optimal\", color='c')\n",
    "plt.ecdf(DCC_SE, label=\"DCC\", color='m', linestyle='--')\n",
    "plt.ecdf(ALL_SE, label=\"ALL\", color='g')\n",
    "\n",
    "plt.yticks(np.arange(0, 1.10, step=0.1))\n",
    "# plt.xticks(np.arange(0, 1.10, step=0.1))\n",
    "#\n",
    "plt.xlabel(r'NMSE', size=15)\n",
    "plt.ylabel(r'CDF', size=15)\n",
    "#\n",
    "plt.ylim(-0.02,1.)\n",
    "plt.xlim(-0.03,3.3)\n",
    "\n",
    "from matplotlib.lines import Line2D\n",
    "custom_lines = [Line2D([0], [0], color='c', lw=4),\n",
    "                Line2D([0], [0], color='m', lw=4),\n",
    "                Line2D([0], [0], color='g', lw=4)\n",
    "                ]\n",
    "\n",
    "\n",
    "ax.legend(custom_lines, ['Optimal', 'DCC', 'ALL'], fontsize=10)\n",
    "# plt.legend(fontsize=10)\n",
    "\n",
    "plt.draw()\n",
    "plt.show()\n",
    "\n",
    "image_format = 'pdf' # e.g .png, .svg, etc.\n",
    "image_name = 'SEs_CDF__.pdf'\n",
    "fig.savefig(image_name, format=image_format, dpi=400)\n"
   ],
   "id": "d87e7ee8ecef2a81"
  },
  {
   "metadata": {},
   "cell_type": "code",
   "outputs": [],
   "execution_count": null,
   "source": [
    "results = load_results('SE_CDF_Comb_MR_NbrSetups_10.pkl')\n",
    "\n",
    "Optimal_nbrServingAPs = results['Optimal_nbrServingAPs'][:]\n",
    "DCC_nbrServingAPs = results['DCC_nbrServingAPs'][:]\n",
    "\n",
    "max_serv_APs = int(max(max(Optimal_nbrServingAPs), max(DCC_nbrServingAPs)))\n",
    "\n",
    "Optimal_nbrServingAPs_hist = np.zeros(max_serv_APs)\n",
    "DCC_nbrServingAPs_hist = np.zeros(max_serv_APs)\n",
    "\n",
    "for count in range(1, max_serv_APs + 1):\n",
    "    Optimal_nbrServingAPs_hist[count-1] = list(Optimal_nbrServingAPs).count(count)\n",
    "    DCC_nbrServingAPs_hist[count-1] = list(DCC_nbrServingAPs).count(count)\n",
    "    \n",
    "\n",
    "# Plot histograms together\n",
    "plt.figure(figsize=(10, 7))\n",
    "plt.bar(np.array(list(range(1, max_serv_APs + 1)), dtype=int), Optimal_nbrServingAPs_hist, color='c', alpha=0.5, label='Optimal')\n",
    "plt.bar(np.array(list(range(1, max_serv_APs + 1)), dtype=int), DCC_nbrServingAPs_hist, color='m', alpha=0.5, label='DCC')\n",
    "# plt.hist(Optimal_nbrServingAPs, bins=6, color='c', alpha=0.5, label='Optimal', align='mid')\n",
    "\n",
    "# plt.hist(ALL_nbrServingAPs, bins=20, color='g', alpha=0.5, label='ALL')\n",
    "\n",
    "plt.xlabel('Number of Serving APs', size=15)\n",
    "plt.ylabel('Frequency', size=15)\n",
    "plt.legend()\n",
    "plt.grid(visible=True, linestyle='--')\n",
    "plt.show()\n",
    "\n"
   ],
   "id": "3601c1d4204ed393"
  },
  {
   "metadata": {},
   "cell_type": "code",
   "outputs": [],
   "execution_count": null,
   "source": "DCC_nbrServingAPs",
   "id": "3d24069d11e107ba"
  },
  {
   "cell_type": "code",
   "outputs": [
    {
     "data": {
      "text/plain": "(array([ 20,   8,  48, 104, 108, 112], dtype=int64),\n array([1., 2., 3., 4., 5., 6., 7.]))"
     },
     "execution_count": 9,
     "metadata": {},
     "output_type": "execute_result"
    }
   ],
   "source": [
    "np.histogram(DCC_nbrServingAPs, bins=6)"
   ],
   "metadata": {
    "collapsed": false,
    "ExecuteTime": {
     "end_time": "2024-11-08T12:01:37.481664Z",
     "start_time": "2024-11-08T12:01:37.476193Z"
    }
   },
   "id": "bff9ea84db253e14",
   "execution_count": 9
  },
  {
   "cell_type": "code",
   "outputs": [],
   "source": [],
   "metadata": {
    "collapsed": false
   },
   "id": "115c862fffa4b657",
   "execution_count": null
  }
 ],
 "metadata": {
  "kernelspec": {
   "display_name": "Python 3",
   "language": "python",
   "name": "python3"
  },
  "language_info": {
   "codemirror_mode": {
    "name": "ipython",
    "version": 2
   },
   "file_extension": ".py",
   "mimetype": "text/x-python",
   "name": "python",
   "nbconvert_exporter": "python",
   "pygments_lexer": "ipython2",
   "version": "2.7.6"
  }
 },
 "nbformat": 4,
 "nbformat_minor": 5
}
