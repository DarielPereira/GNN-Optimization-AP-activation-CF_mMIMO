{
 "cells": [
  {
   "cell_type": "code",
   "execution_count": 1,
   "metadata": {
    "collapsed": true
   },
   "outputs": [
    {
     "name": "stdout",
     "output_type": "stream",
     "text": [
      "Setup iteration 0 of 3\n",
      "Setup iteration 1 of 3\n",
      "Setup iteration 2 of 3\n"
     ]
    }
   ],
   "source": [
    "nbrOfSetups = 3\n",
    "for n in range(nbrOfSetups):\n",
    "    print(\"Setup iteration {} of {}\".format(n, nbrOfSetups))"
   ]
  },
  {
   "cell_type": "code",
   "execution_count": 3,
   "outputs": [],
   "source": [
    "B = 20*10**6\n"
   ],
   "metadata": {
    "collapsed": false,
    "pycharm": {
     "name": "#%%\n"
    }
   }
  },
  {
   "cell_type": "code",
   "execution_count": 20,
   "outputs": [
    {
     "data": {
      "text/plain": "<Figure size 432x288 with 1 Axes>",
      "image/png": "[encoded data removed]"
     },
     "metadata": {
      "needs_background": "light"
     },
     "output_type": "display_data"
    }
   ],
   "source": [
    "import numpy as np\n",
    "import matplotlib.pyplot as plt\n",
    "\n",
    "L = 100\n",
    "squarelength = 1000\n",
    "\n",
    "APpositions = (np.random.rand(L,1) + 1j*np.random.rand(L,1))*squarelength\n",
    "UEpositions = (np.random.rand(L,1) + 1j*np.random.rand(L,1))*squarelength\n",
    "\n",
    "plt.plot(APpositions.real, APpositions.imag, 'g*')\n",
    "plt.plot(UEpositions.real, UEpositions.imag, 'r*')\n",
    "plt.show()"
   ],
   "metadata": {
    "collapsed": false,
    "pycharm": {
     "name": "#%%\n"
    }
   }
  },
  {
   "cell_type": "code",
   "execution_count": 9,
   "outputs": [
    {
     "data": {
      "text/plain": "array([[0.18483661],\n       [0.23862895],\n       [0.57455873],\n       [0.52652916],\n       [0.10325918],\n       [0.14741524],\n       [0.33679929],\n       [0.92832703],\n       [0.60619992],\n       [0.0076857 ],\n       [0.97678605],\n       [0.92619108],\n       [0.44550586],\n       [0.50504219],\n       [0.44151454],\n       [0.14527764],\n       [0.12237216],\n       [0.70461252],\n       [0.2661233 ],\n       [0.63895703],\n       [0.1257515 ],\n       [0.97678316],\n       [0.21808126],\n       [0.61526647],\n       [0.42124659],\n       [0.94098797],\n       [0.917648  ],\n       [0.47549625],\n       [0.68114491],\n       [0.8992588 ],\n       [0.131112  ],\n       [0.71335916],\n       [0.55827129],\n       [0.3596246 ],\n       [0.81420746],\n       [0.85642211],\n       [0.5087989 ],\n       [0.19438906],\n       [0.033208  ],\n       [0.81142962],\n       [0.09152066],\n       [0.71748558],\n       [0.97958313],\n       [0.59785122],\n       [0.0644029 ],\n       [0.98185332],\n       [0.94205284],\n       [0.03289585],\n       [0.26298568],\n       [0.7515422 ],\n       [0.13166167],\n       [0.81186487],\n       [0.18597673],\n       [0.99782481],\n       [0.47255811],\n       [0.55224287],\n       [0.4250744 ],\n       [0.41490171],\n       [0.79759553],\n       [0.27289442],\n       [0.14012391],\n       [0.39080009],\n       [0.94025312],\n       [0.65857235],\n       [0.45117487],\n       [0.8419674 ],\n       [0.01226124],\n       [0.19470286],\n       [0.3853837 ],\n       [0.47633091],\n       [0.08866699],\n       [0.76744791],\n       [0.59346224],\n       [0.14766523],\n       [0.67418847],\n       [0.11090394],\n       [0.63969645],\n       [0.2883767 ],\n       [0.97427851],\n       [0.52198571],\n       [0.84913784],\n       [0.80330508],\n       [0.69014289],\n       [0.38448418],\n       [0.77904618],\n       [0.46072994],\n       [0.34486609],\n       [0.62200837],\n       [0.06476885],\n       [0.83174152],\n       [0.79864479],\n       [0.10820086],\n       [0.44576949],\n       [0.52946122],\n       [0.40350496],\n       [0.03664308],\n       [0.70825246],\n       [0.37802573],\n       [0.57369229],\n       [0.20456529]])"
     },
     "execution_count": 9,
     "metadata": {},
     "output_type": "execute_result"
    }
   ],
   "source": [
    "APpositions.real"
   ],
   "metadata": {
    "collapsed": false,
    "pycharm": {
     "name": "#%%\n"
    }
   }
  },
  {
   "cell_type": "code",
   "execution_count": 18,
   "outputs": [
    {
     "data": {
      "text/plain": "array([0.        , 0.33333333, 0.66666667, 1.        ])"
     },
     "execution_count": 18,
     "metadata": {},
     "output_type": "execute_result"
    }
   ],
   "source": [
    "a = np.linspace(0,1,4)\n",
    "a"
   ],
   "metadata": {
    "collapsed": false,
    "pycharm": {
     "name": "#%%\n"
    }
   }
  },
  {
   "cell_type": "code",
   "execution_count": 24,
   "outputs": [],
   "source": [
    "d = np.random.rand()\n"
   ],
   "metadata": {
    "collapsed": false,
    "pycharm": {
     "name": "#%%\n"
    }
   }
  },
  {
   "cell_type": "code",
   "execution_count": 27,
   "outputs": [
    {
     "data": {
      "text/plain": "array([1.        , 1.25992105, 1.58740105, 2.        ])"
     },
     "execution_count": 27,
     "metadata": {},
     "output_type": "execute_result"
    }
   ],
   "source": [
    "n = 2**a\n",
    "n"
   ],
   "metadata": {
    "collapsed": false,
    "pycharm": {
     "name": "#%%\n"
    }
   }
  },
  {
   "cell_type": "code",
   "execution_count": 33,
   "outputs": [
    {
     "data": {
      "text/plain": "array([[553.60057698+677.56001377j],\n       [280.22477602+336.11262348j],\n       [905.79719331+981.08664916j],\n       [940.07740102 +10.38454709j],\n       [686.36277324+970.17379694j],\n       [917.09435012 +39.78278326j],\n       [361.64319511+136.59873583j],\n       [535.77977554+480.29432965j],\n       [284.30456991+695.89447612j],\n       [153.8772516 +854.38825088j],\n       [487.46756254+917.2147512j ],\n       [544.19864022+752.9595606j ],\n       [217.29186427+713.16345205j],\n       [602.96053897+448.08288502j],\n       [693.81281063+273.30127686j],\n       [897.02812589+712.71472821j],\n       [333.45043235 +57.18711896j],\n       [ 65.10824157+583.32787345j],\n       [213.38025222+759.42249834j],\n       [450.45815169+788.07943474j],\n       [143.53229905+107.01372489j],\n       [629.61655043+666.05793214j],\n       [934.20430595+385.74145819j],\n       [663.6287333 +175.80064748j],\n       [824.59983763+832.12356966j],\n       [  7.60075094+198.81990215j],\n       [455.84170365+118.53488019j],\n       [323.44187388+687.84900762j],\n       [ 14.76235345+354.87653436j],\n       [886.36443175+495.28655503j],\n       [651.26729071+447.74738755j],\n       [102.19287923+917.31404415j],\n       [594.39445393+158.41252128j],\n       [462.73384938+374.50950819j],\n       [352.17436681+602.83212627j],\n       [327.24936273+626.61325055j],\n       [529.89854679+534.16665587j],\n       [349.3177614 +785.56238804j],\n       [418.74225224+590.66215632j],\n       [659.54044328+819.0601799j ],\n       [480.77667025+960.54732807j],\n       [985.55979702+830.12889558j],\n       [618.5767516 +475.12188202j],\n       [238.32262862+127.20938403j],\n       [600.64724025+823.92546134j],\n       [ 15.14429089+135.71732989j],\n       [798.02014923+429.99646555j],\n       [573.6821314 +820.67969523j],\n       [830.02463013 +68.29440893j],\n       [300.95494883+294.58738864j],\n       [ 13.15900815+491.37522759j],\n       [210.37856644+918.86597697j],\n       [781.77491994+563.62969089j],\n       [772.88990253+222.71978809j],\n       [256.74362728+537.84042139j],\n       [866.74267456+243.11797004j],\n       [355.5555518 +292.92988845j],\n       [277.72372487+150.01531281j],\n       [232.77020337+906.78099766j],\n       [652.5110526  +68.1575554j ],\n       [977.17628737+298.34924222j],\n       [677.79434277 +56.06947199j],\n       [740.35917604+956.87869763j],\n       [ 50.04494101+773.72711678j],\n       [212.66625859+335.14854205j],\n       [781.36247171+545.44225861j],\n       [701.46293509+759.00384628j],\n       [491.0706353 +408.79615715j],\n       [628.14123453+398.27113548j],\n       [676.65503074+697.97355543j],\n       [847.59132173+644.88962527j],\n       [324.60905318+861.40533812j],\n       [240.6974522 +493.06445181j],\n       [979.29656305+845.77810826j],\n       [595.04895992+963.86990535j],\n       [933.0330772 +701.78692776j],\n       [369.04935834+820.72798096j],\n       [578.63452311+604.78495877j],\n       [981.38400599+265.12857835j],\n       [323.20744525+775.21606671j],\n       [ 21.8437717 +987.68414691j],\n       [395.84448222+561.34512837j],\n       [206.48455428+157.04217184j],\n       [929.15849292+642.59950371j],\n       [466.07306049+986.4591283j ],\n       [127.27706403+215.09750846j],\n       [333.19298849+136.69001782j],\n       [416.41179441+566.34592046j],\n       [273.77585432+333.20320671j],\n       [ 11.40728639+106.82627091j],\n       [465.3553005 +326.04358148j],\n       [352.51028239+392.21127532j],\n       [466.10644259+157.29460299j],\n       [456.79986491  +8.4901192j ],\n       [386.46289864+348.55013011j],\n       [260.50166265+878.66428201j],\n       [522.0774811 +820.68020435j],\n       [738.38665392+225.92057012j],\n       [ 54.63028759+830.8779235j ],\n       [411.2505215  +82.16556461j]])"
     },
     "execution_count": 33,
     "metadata": {},
     "output_type": "execute_result"
    }
   ],
   "source": [
    "APpositions.conjugate().T\n",
    "\n",
    "\n",
    "\n"
   ],
   "metadata": {
    "collapsed": false,
    "pycharm": {
     "name": "#%%\n"
    }
   }
  },
  {
   "cell_type": "code",
   "execution_count": 38,
   "outputs": [],
   "source": [
    "l = []\n",
    "if l:\n",
    "    print('true')\n",
    "\n"
   ],
   "metadata": {
    "collapsed": false,
    "pycharm": {
     "name": "#%%\n"
    }
   }
  },
  {
   "cell_type": "code",
   "execution_count": 57,
   "outputs": [
    {
     "ename": "TypeError",
     "evalue": "_argmax_dispatcher() got an unexpected keyword argument 'mask'",
     "output_type": "error",
     "traceback": [
      "\u001B[1;31m---------------------------------------------------------------------------\u001B[0m",
      "\u001B[1;31mTypeError\u001B[0m                                 Traceback (most recent call last)",
      "\u001B[1;32m~\\AppData\\Local\\Temp/ipykernel_3340/2943265064.py\u001B[0m in \u001B[0;36m<module>\u001B[1;34m\u001B[0m\n\u001B[0;32m      1\u001B[0m \u001B[0mpilotIndex\u001B[0m \u001B[1;33m=\u001B[0m \u001B[0mnp\u001B[0m\u001B[1;33m.\u001B[0m\u001B[0marray\u001B[0m\u001B[1;33m(\u001B[0m\u001B[1;33m[\u001B[0m\u001B[1;36m3\u001B[0m\u001B[1;33m,\u001B[0m\u001B[1;36m1\u001B[0m\u001B[1;33m,\u001B[0m\u001B[1;36m4\u001B[0m\u001B[1;33m,\u001B[0m\u001B[1;36m3\u001B[0m\u001B[1;33m,\u001B[0m\u001B[1;36m1\u001B[0m\u001B[1;33m,\u001B[0m\u001B[1;36m2\u001B[0m\u001B[1;33m,\u001B[0m\u001B[1;36m3\u001B[0m\u001B[1;33m]\u001B[0m\u001B[1;33m)\u001B[0m\u001B[1;33m\u001B[0m\u001B[1;33m\u001B[0m\u001B[0m\n\u001B[0;32m      2\u001B[0m \u001B[0mpilot\u001B[0m \u001B[1;33m=\u001B[0m \u001B[0mnp\u001B[0m\u001B[1;33m.\u001B[0m\u001B[0marray\u001B[0m\u001B[1;33m(\u001B[0m\u001B[1;33m[\u001B[0m\u001B[1;36m4\u001B[0m\u001B[1;33m,\u001B[0m\u001B[1;36m1\u001B[0m\u001B[1;33m,\u001B[0m\u001B[1;36m4\u001B[0m\u001B[1;33m,\u001B[0m\u001B[1;36m22\u001B[0m\u001B[1;33m,\u001B[0m\u001B[1;36m1\u001B[0m\u001B[1;33m,\u001B[0m\u001B[1;36m2\u001B[0m\u001B[1;33m,\u001B[0m\u001B[1;36m9\u001B[0m\u001B[1;33m]\u001B[0m\u001B[1;33m)\u001B[0m\u001B[1;33m\u001B[0m\u001B[1;33m\u001B[0m\u001B[0m\n\u001B[1;32m----> 3\u001B[1;33m \u001B[0mindex\u001B[0m \u001B[1;33m=\u001B[0m \u001B[0mnp\u001B[0m\u001B[1;33m.\u001B[0m\u001B[0margmax\u001B[0m\u001B[1;33m(\u001B[0m\u001B[0mpilot\u001B[0m\u001B[1;33m,\u001B[0m \u001B[0mmask\u001B[0m \u001B[1;33m=\u001B[0m \u001B[1;33m[\u001B[0m\u001B[0mpilotIndex\u001B[0m \u001B[1;33m==\u001B[0m \u001B[1;36m3\u001B[0m\u001B[1;33m]\u001B[0m\u001B[1;33m)\u001B[0m\u001B[1;33m\u001B[0m\u001B[1;33m\u001B[0m\u001B[0m\n\u001B[0m\u001B[0;32m      4\u001B[0m \u001B[0mindex\u001B[0m\u001B[1;33m\u001B[0m\u001B[1;33m\u001B[0m\u001B[0m\n\u001B[0;32m      5\u001B[0m \u001B[1;31m# print(index==True)\u001B[0m\u001B[1;33m\u001B[0m\u001B[1;33m\u001B[0m\u001B[1;33m\u001B[0m\u001B[0m\n",
      "\u001B[1;32m<__array_function__ internals>\u001B[0m in \u001B[0;36margmax\u001B[1;34m(*args, **kwargs)\u001B[0m\n",
      "\u001B[1;31mTypeError\u001B[0m: _argmax_dispatcher() got an unexpected keyword argument 'mask'"
     ]
    }
   ],
   "source": [
    "pilotIndex = np.array([3,1,4,3,1,2,3])\n",
    "pilot = np.array([4,1,4,22,1,2,9])\n",
    "index = np.argmax(pilot.mask = [pilotIndex == 3])\n",
    "index\n",
    "# print(index==True)"
   ],
   "metadata": {
    "collapsed": false,
    "pycharm": {
     "name": "#%%\n"
    }
   }
  },
  {
   "cell_type": "code",
   "execution_count": 56,
   "outputs": [
    {
     "data": {
      "text/plain": "array([ True, False, False,  True, False, False,  True])"
     },
     "execution_count": 56,
     "metadata": {},
     "output_type": "execute_result"
    }
   ],
   "source": [
    "pilotIndex == 3"
   ],
   "metadata": {
    "collapsed": false,
    "pycharm": {
     "name": "#%%\n"
    }
   }
  },
  {
   "cell_type": "code",
   "execution_count": 59,
   "outputs": [],
   "source": [
    "from scipy.io import loadmat\n",
    "\n",
    "# Load MATLAB file\n",
    "mat_data = loadmat('mat.mat')\n",
    "# Extract the 4D matrix\n",
    "mat4D_python = mat_data['H']\n",
    "\n",
    "mat4D_python"
   ],
   "metadata": {
    "collapsed": false,
    "pycharm": {
     "name": "#%%\n"
    }
   }
  },
  {
   "cell_type": "code",
   "execution_count": null,
   "outputs": [],
   "source": [],
   "metadata": {
    "collapsed": false,
    "pycharm": {
     "name": "#%%\n"
    }
   }
  }
 ],
 "metadata": {
  "kernelspec": {
   "display_name": "Python 3",
   "language": "python",
   "name": "python3"
  },
  "language_info": {
   "codemirror_mode": {
    "name": "ipython",
    "version": 2
   },
   "file_extension": ".py",
   "mimetype": "text/x-python",
   "name": "python",
   "nbconvert_exporter": "python",
   "pygments_lexer": "ipython2",
   "version": "2.7.6"
  }
 },
 "nbformat": 4,
 "nbformat_minor": 0
}